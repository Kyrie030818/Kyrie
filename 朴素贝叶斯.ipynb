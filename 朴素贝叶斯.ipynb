{
 "cells": [
  {
   "cell_type": "code",
   "execution_count": 1,
   "id": "cf6ee282-c397-4568-a4a6-e82ca8b0b9fa",
   "metadata": {},
   "outputs": [],
   "source": [
    "from sklearn.datasets import load_iris\n",
    "from sklearn.model_selection import train_test_split\n",
    "\n",
    "iris = load_iris()\n",
    "X, y = iris.data, iris.target\n",
    "X_train, X_test, y_train, y_test = train_test_split(X, y, train_size=0.8, random_state=3)"
   ]
  },
  {
   "cell_type": "code",
   "execution_count": 2,
   "id": "1db8ad01-a6ef-483c-907f-94d2ae9c5d65",
   "metadata": {},
   "outputs": [],
   "source": [
    "import numpy as np\n",
    "import pandas as pd\n",
    "\n",
    "\n",
    "def naive_bayes_fit(X, y):\n",
    "    \"\"\"\n",
    "    :param X: 样本特征\n",
    "    :param Y: 样本标签\n",
    "    :returns: 二元组 - (先验概率, 似然性)\n",
    "    \"\"\"\n",
    "    # 计算先验概率\n",
    "    clazz_labels, clazz_counts = np.unique(y, return_counts=True)\n",
    "    prior_probs = pd.Series({k: v / y.size for k, v in zip(clazz_labels, clazz_counts)})\n",
    "    # 拷贝数组创建副本\n",
    "    X = np.copy(X)\n",
    "    # 保存似然性计算结果的字典\n",
    "    likelihoods = {}\n",
    "    for j in range(X.shape[1]):  # 对特征的循环\n",
    "        # 对特征进行等宽分箱（离散化处理）\n",
    "        X[:, j] = pd.cut(X[:, j], bins=5, labels=np.arange(1, 6))\n",
    "        for i in prior_probs.index:\n",
    "            # 按标签类别拆分数据并统计每个特征值出现的频次\n",
    "            x_prime = X[y == i, j]\n",
    "            x_values, x_counts = np.unique(x_prime, return_counts=True)\n",
    "            for k, value in enumerate(x_values):  # 对不同特征值的循环\n",
    "                # 计算似然性并保存在字典中（字典的键是一个三元组 - (标签, 特征序号, 特征值)）\n",
    "                likelihoods[(i, j, value)] = x_counts[k] / x_prime.size\n",
    "    return prior_probs, likelihoods"
   ]
  },
  {
   "cell_type": "code",
   "execution_count": 3,
   "id": "0a471cf6-df1e-43d7-acdc-4ee9530d3edb",
   "metadata": {},
   "outputs": [
    {
     "name": "stdout",
     "output_type": "stream",
     "text": [
      "先验概率: \n",
      "0    0.333333\n",
      "1    0.333333\n",
      "2    0.333333\n",
      "dtype: float64\n",
      "似然性: \n",
      "{(0, 0, 1.0): 0.525, (0, 0, 2.0): 0.45, (0, 0, 3.0): 0.025, (1, 0, 1.0): 0.05, (1, 0, 2.0): 0.375, (1, 0, 3.0): 0.425, (1, 0, 4.0): 0.15, (2, 0, 1.0): 0.025, (2, 0, 2.0): 0.025, (2, 0, 3.0): 0.45, (2, 0, 4.0): 0.3, (2, 0, 5.0): 0.2, (0, 1, 1.0): 0.025, (0, 1, 3.0): 0.325, (0, 1, 4.0): 0.45, (0, 1, 5.0): 0.2, (1, 1, 1.0): 0.175, (1, 1, 2.0): 0.325, (1, 1, 3.0): 0.475, (1, 1, 4.0): 0.025, (2, 1, 1.0): 0.025, (2, 1, 2.0): 0.35, (2, 1, 3.0): 0.525, (2, 1, 4.0): 0.05, (2, 1, 5.0): 0.05, (0, 2, 1.0): 1.0, (1, 2, 2.0): 0.025, (1, 2, 3.0): 0.525, (1, 2, 4.0): 0.45, (2, 2, 4.0): 0.525, (2, 2, 5.0): 0.475, (0, 3, 1.0): 0.975, (0, 3, 2.0): 0.025, (1, 3, 2.0): 0.125, (1, 3, 3.0): 0.75, (1, 3, 4.0): 0.125, (2, 3, 3.0): 0.05, (2, 3, 4.0): 0.525, (2, 3, 5.0): 0.425}\n"
     ]
    }
   ],
   "source": [
    "p_ci, p_x_ci = naive_bayes_fit(X_train, y_train)\n",
    "print('先验概率: ', p_ci, sep='\\n')\n",
    "print('似然性: ', p_x_ci, sep='\\n')"
   ]
  },
  {
   "cell_type": "code",
   "execution_count": 2,
   "id": "630c0b22-f00c-4147-b9bc-fad18b1fb481",
   "metadata": {},
   "outputs": [],
   "source": [
    "from sklearn.naive_bayes import GaussianNB\n",
    "\n",
    "model = GaussianNB()\n",
    "model.fit(X_train, y_train)\n",
    "y_pred = model.predict(X_test)"
   ]
  },
  {
   "cell_type": "code",
   "execution_count": 3,
   "id": "ae40b392-9a5b-4d6b-b336-42a65650b2e0",
   "metadata": {},
   "outputs": [
    {
     "name": "stdout",
     "output_type": "stream",
     "text": [
      "              precision    recall  f1-score   support\n",
      "\n",
      "           0       1.00      1.00      1.00        10\n",
      "           1       0.91      1.00      0.95        10\n",
      "           2       1.00      0.90      0.95        10\n",
      "\n",
      "    accuracy                           0.97        30\n",
      "   macro avg       0.97      0.97      0.97        30\n",
      "weighted avg       0.97      0.97      0.97        30\n",
      "\n"
     ]
    }
   ],
   "source": [
    "from sklearn.metrics import classification_report\n",
    "\n",
    "print(classification_report(y_test, y_pred))"
   ]
  },
  {
   "cell_type": "code",
   "execution_count": null,
   "id": "acd098d5-6c90-4716-a1d9-2c8c90ac7d17",
   "metadata": {},
   "outputs": [],
   "source": []
  }
 ],
 "metadata": {
  "kernelspec": {
   "display_name": "Python 3 (ipykernel)",
   "language": "python",
   "name": "python3"
  },
  "language_info": {
   "codemirror_mode": {
    "name": "ipython",
    "version": 3
   },
   "file_extension": ".py",
   "mimetype": "text/x-python",
   "name": "python",
   "nbconvert_exporter": "python",
   "pygments_lexer": "ipython3",
   "version": "3.12.7"
  }
 },
 "nbformat": 4,
 "nbformat_minor": 5
}
